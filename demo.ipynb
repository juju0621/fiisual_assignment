{
 "cells": [
  {
   "cell_type": "code",
   "execution_count": 3,
   "id": "b7df07dc",
   "metadata": {},
   "outputs": [],
   "source": [
    "from utils.goodinfo_scraper import GoodInfoScraper\n",
    "from utils.preprocessor import StockDataPreprocessor"
   ]
  },
  {
   "cell_type": "code",
   "execution_count": null,
   "id": "21de7625",
   "metadata": {},
   "outputs": [
    {
     "name": "stdout",
     "output_type": "stream",
     "text": [
      "更新日期: 2025-06-06 00:00:00\n"
     ]
    }
   ],
   "source": [
    "ticker = \"2330\"\n",
    "scraper = GoodInfoScraper(ticker)\n",
    "scraper.run()\n",
    "\n",
    "print(f\"更新日期: {scraper.update_date}\")\n",
    "\n",
    "update_date = scraper.update_date\n",
    "info = scraper.info\n",
    "df1 = scraper.df1\n",
    "df2 = scraper.df2\n",
    "\n",
    "processor = StockDataPreprocessor(ticker=ticker, update_date=update_date)\n",
    "df = processor.process_statistics_data(df1, df2) # 公司股票統計指標（近期日 K 線圖）\n",
    "info_df = processor.process_info_data(info) # 公司基本資料"
   ]
  },
  {
   "cell_type": "code",
   "execution_count": 5,
   "id": "d28b9f08",
   "metadata": {},
   "outputs": [
    {
     "data": {
      "application/vnd.microsoft.datawrangler.viewer.v0+json": {
       "columns": [
        {
         "name": "index",
         "rawType": "int64",
         "type": "integer"
        },
        {
         "name": "區間",
         "rawType": "object",
         "type": "string"
        },
        {
         "name": "更新日期",
         "rawType": "datetime64[us]",
         "type": "unknown"
        },
        {
         "name": "股票代號",
         "rawType": "object",
         "type": "string"
        },
        {
         "name": "Beta",
         "rawType": "float64",
         "type": "float"
        },
        {
         "name": "標準差",
         "rawType": "float64",
         "type": "float"
        },
        {
         "name": "年化標準差",
         "rawType": "float64",
         "type": "float"
        },
        {
         "name": "累計漲跌價",
         "rawType": "float64",
         "type": "float"
        },
        {
         "name": "累計漲跌幅（%）",
         "rawType": "float64",
         "type": "float"
        },
        {
         "name": "區間振幅（%）",
         "rawType": "float64",
         "type": "float"
        },
        {
         "name": "成交量週轉率（%）",
         "rawType": "float64",
         "type": "float"
        },
        {
         "name": "均線落點",
         "rawType": "float64",
         "type": "float"
        },
        {
         "name": "均線乖離率（%）",
         "rawType": "float64",
         "type": "float"
        }
       ],
       "ref": "008c8cc3-8502-4b45-9a40-00ca1a87962d",
       "rows": [
        [
         "0",
         "5日",
         "2025-06-06 00:00:00",
         "2330",
         "1.61",
         "2.32",
         "36.0",
         "28.0",
         "2.9",
         "5.58",
         "0.61",
         "975.8",
         "1.97"
        ],
        [
         "1",
         "10日",
         "2025-06-06 00:00:00",
         "2330",
         "1.59",
         "1.67",
         "25.9",
         "13.0",
         "1.32",
         "5.5",
         "1.27",
         "973.8",
         "2.18"
        ],
        [
         "2",
         "1個月",
         "2025-06-06 00:00:00",
         "2330",
         "1.46",
         "1.62",
         "25.1",
         "67.0",
         "7.22",
         "8.84",
         "2.59",
         "976.8",
         "1.86"
        ],
        [
         "3",
         "3個月",
         "2025-06-06 00:00:00",
         "2330",
         "1.11",
         "2.83",
         "43.9",
         "-10.0",
         "-1.0",
         "22.4",
         "9.41",
         "-934.2",
         "6.51"
        ],
        [
         "4",
         "半年",
         "2025-06-06 00:00:00",
         "2330",
         "1.19",
         "2.42",
         "37.5",
         "-70.0",
         "-6.57",
         "35.7",
         "18.3",
         "-1006.0",
         "-1.11"
        ],
        [
         "5",
         "1年",
         "2025-06-06 00:00:00",
         "2330",
         "1.29",
         "2.38",
         "36.9",
         "101.0",
         "11.3",
         "42.5",
         "40.4",
         "995.4",
         "-0.04"
        ],
        [
         "6",
         "3年",
         "2025-06-06 00:00:00",
         "2330",
         "1.42",
         "2.03",
         "31.5",
         "460.0",
         "86.0",
         "148.0",
         "103.0",
         "707.2",
         "40.7"
        ],
        [
         "7",
         "5年",
         "2025-06-06 00:00:00",
         "2330",
         "1.36",
         "1.87",
         "28.9",
         null,
         null,
         null,
         null,
         null,
         null
        ],
        [
         "8",
         "10年",
         "2025-06-06 00:00:00",
         "2330",
         "1.34",
         "1.69",
         "26.2",
         "855.0",
         "611.0",
         "748.0",
         "342.0",
         "432.6",
         "130.0"
        ],
        [
         "9",
         "20年",
         "2025-06-06 00:00:00",
         "2330",
         "1.15",
         "1.72",
         "26.6",
         "936.9",
         "1613.0",
         "1934.0",
         "820.0",
         "256.2",
         "288.0"
        ]
       ],
       "shape": {
        "columns": 12,
        "rows": 10
       }
      },
      "text/html": [
       "<div>\n",
       "<style scoped>\n",
       "    .dataframe tbody tr th:only-of-type {\n",
       "        vertical-align: middle;\n",
       "    }\n",
       "\n",
       "    .dataframe tbody tr th {\n",
       "        vertical-align: top;\n",
       "    }\n",
       "\n",
       "    .dataframe thead th {\n",
       "        text-align: right;\n",
       "    }\n",
       "</style>\n",
       "<table border=\"1\" class=\"dataframe\">\n",
       "  <thead>\n",
       "    <tr style=\"text-align: right;\">\n",
       "      <th></th>\n",
       "      <th>區間</th>\n",
       "      <th>更新日期</th>\n",
       "      <th>股票代號</th>\n",
       "      <th>Beta</th>\n",
       "      <th>標準差</th>\n",
       "      <th>年化標準差</th>\n",
       "      <th>累計漲跌價</th>\n",
       "      <th>累計漲跌幅（%）</th>\n",
       "      <th>區間振幅（%）</th>\n",
       "      <th>成交量週轉率（%）</th>\n",
       "      <th>均線落點</th>\n",
       "      <th>均線乖離率（%）</th>\n",
       "    </tr>\n",
       "  </thead>\n",
       "  <tbody>\n",
       "    <tr>\n",
       "      <th>0</th>\n",
       "      <td>5日</td>\n",
       "      <td>2025-06-06</td>\n",
       "      <td>2330</td>\n",
       "      <td>1.61</td>\n",
       "      <td>2.32</td>\n",
       "      <td>36.0</td>\n",
       "      <td>28.0</td>\n",
       "      <td>2.90</td>\n",
       "      <td>5.58</td>\n",
       "      <td>0.61</td>\n",
       "      <td>975.8</td>\n",
       "      <td>1.97</td>\n",
       "    </tr>\n",
       "    <tr>\n",
       "      <th>1</th>\n",
       "      <td>10日</td>\n",
       "      <td>2025-06-06</td>\n",
       "      <td>2330</td>\n",
       "      <td>1.59</td>\n",
       "      <td>1.67</td>\n",
       "      <td>25.9</td>\n",
       "      <td>13.0</td>\n",
       "      <td>1.32</td>\n",
       "      <td>5.50</td>\n",
       "      <td>1.27</td>\n",
       "      <td>973.8</td>\n",
       "      <td>2.18</td>\n",
       "    </tr>\n",
       "    <tr>\n",
       "      <th>2</th>\n",
       "      <td>1個月</td>\n",
       "      <td>2025-06-06</td>\n",
       "      <td>2330</td>\n",
       "      <td>1.46</td>\n",
       "      <td>1.62</td>\n",
       "      <td>25.1</td>\n",
       "      <td>67.0</td>\n",
       "      <td>7.22</td>\n",
       "      <td>8.84</td>\n",
       "      <td>2.59</td>\n",
       "      <td>976.8</td>\n",
       "      <td>1.86</td>\n",
       "    </tr>\n",
       "    <tr>\n",
       "      <th>3</th>\n",
       "      <td>3個月</td>\n",
       "      <td>2025-06-06</td>\n",
       "      <td>2330</td>\n",
       "      <td>1.11</td>\n",
       "      <td>2.83</td>\n",
       "      <td>43.9</td>\n",
       "      <td>-10.0</td>\n",
       "      <td>-1.00</td>\n",
       "      <td>22.40</td>\n",
       "      <td>9.41</td>\n",
       "      <td>-934.2</td>\n",
       "      <td>6.51</td>\n",
       "    </tr>\n",
       "    <tr>\n",
       "      <th>4</th>\n",
       "      <td>半年</td>\n",
       "      <td>2025-06-06</td>\n",
       "      <td>2330</td>\n",
       "      <td>1.19</td>\n",
       "      <td>2.42</td>\n",
       "      <td>37.5</td>\n",
       "      <td>-70.0</td>\n",
       "      <td>-6.57</td>\n",
       "      <td>35.70</td>\n",
       "      <td>18.30</td>\n",
       "      <td>-1006.0</td>\n",
       "      <td>-1.11</td>\n",
       "    </tr>\n",
       "    <tr>\n",
       "      <th>5</th>\n",
       "      <td>1年</td>\n",
       "      <td>2025-06-06</td>\n",
       "      <td>2330</td>\n",
       "      <td>1.29</td>\n",
       "      <td>2.38</td>\n",
       "      <td>36.9</td>\n",
       "      <td>101.0</td>\n",
       "      <td>11.30</td>\n",
       "      <td>42.50</td>\n",
       "      <td>40.40</td>\n",
       "      <td>995.4</td>\n",
       "      <td>-0.04</td>\n",
       "    </tr>\n",
       "    <tr>\n",
       "      <th>6</th>\n",
       "      <td>3年</td>\n",
       "      <td>2025-06-06</td>\n",
       "      <td>2330</td>\n",
       "      <td>1.42</td>\n",
       "      <td>2.03</td>\n",
       "      <td>31.5</td>\n",
       "      <td>460.0</td>\n",
       "      <td>86.00</td>\n",
       "      <td>148.00</td>\n",
       "      <td>103.00</td>\n",
       "      <td>707.2</td>\n",
       "      <td>40.70</td>\n",
       "    </tr>\n",
       "    <tr>\n",
       "      <th>7</th>\n",
       "      <td>5年</td>\n",
       "      <td>2025-06-06</td>\n",
       "      <td>2330</td>\n",
       "      <td>1.36</td>\n",
       "      <td>1.87</td>\n",
       "      <td>28.9</td>\n",
       "      <td>NaN</td>\n",
       "      <td>NaN</td>\n",
       "      <td>NaN</td>\n",
       "      <td>NaN</td>\n",
       "      <td>NaN</td>\n",
       "      <td>NaN</td>\n",
       "    </tr>\n",
       "    <tr>\n",
       "      <th>8</th>\n",
       "      <td>10年</td>\n",
       "      <td>2025-06-06</td>\n",
       "      <td>2330</td>\n",
       "      <td>1.34</td>\n",
       "      <td>1.69</td>\n",
       "      <td>26.2</td>\n",
       "      <td>855.0</td>\n",
       "      <td>611.00</td>\n",
       "      <td>748.00</td>\n",
       "      <td>342.00</td>\n",
       "      <td>432.6</td>\n",
       "      <td>130.00</td>\n",
       "    </tr>\n",
       "    <tr>\n",
       "      <th>9</th>\n",
       "      <td>20年</td>\n",
       "      <td>2025-06-06</td>\n",
       "      <td>2330</td>\n",
       "      <td>1.15</td>\n",
       "      <td>1.72</td>\n",
       "      <td>26.6</td>\n",
       "      <td>936.9</td>\n",
       "      <td>1613.00</td>\n",
       "      <td>1934.00</td>\n",
       "      <td>820.00</td>\n",
       "      <td>256.2</td>\n",
       "      <td>288.00</td>\n",
       "    </tr>\n",
       "  </tbody>\n",
       "</table>\n",
       "</div>"
      ],
      "text/plain": [
       "    區間       更新日期  股票代號  Beta   標準差  年化標準差  累計漲跌價  累計漲跌幅（%）  區間振幅（%）  \\\n",
       "0   5日 2025-06-06  2330  1.61  2.32   36.0   28.0      2.90     5.58   \n",
       "1  10日 2025-06-06  2330  1.59  1.67   25.9   13.0      1.32     5.50   \n",
       "2  1個月 2025-06-06  2330  1.46  1.62   25.1   67.0      7.22     8.84   \n",
       "3  3個月 2025-06-06  2330  1.11  2.83   43.9  -10.0     -1.00    22.40   \n",
       "4   半年 2025-06-06  2330  1.19  2.42   37.5  -70.0     -6.57    35.70   \n",
       "5   1年 2025-06-06  2330  1.29  2.38   36.9  101.0     11.30    42.50   \n",
       "6   3年 2025-06-06  2330  1.42  2.03   31.5  460.0     86.00   148.00   \n",
       "7   5年 2025-06-06  2330  1.36  1.87   28.9    NaN       NaN      NaN   \n",
       "8  10年 2025-06-06  2330  1.34  1.69   26.2  855.0    611.00   748.00   \n",
       "9  20年 2025-06-06  2330  1.15  1.72   26.6  936.9   1613.00  1934.00   \n",
       "\n",
       "   成交量週轉率（%）    均線落點  均線乖離率（%）  \n",
       "0       0.61   975.8      1.97  \n",
       "1       1.27   973.8      2.18  \n",
       "2       2.59   976.8      1.86  \n",
       "3       9.41  -934.2      6.51  \n",
       "4      18.30 -1006.0     -1.11  \n",
       "5      40.40   995.4     -0.04  \n",
       "6     103.00   707.2     40.70  \n",
       "7        NaN     NaN       NaN  \n",
       "8     342.00   432.6    130.00  \n",
       "9     820.00   256.2    288.00  "
      ]
     },
     "execution_count": 5,
     "metadata": {},
     "output_type": "execute_result"
    }
   ],
   "source": [
    "df"
   ]
  },
  {
   "cell_type": "code",
   "execution_count": 6,
   "id": "fe0ad29a",
   "metadata": {},
   "outputs": [
    {
     "data": {
      "application/vnd.microsoft.datawrangler.viewer.v0+json": {
       "columns": [
        {
         "name": "index",
         "rawType": "int64",
         "type": "integer"
        },
        {
         "name": "名稱",
         "rawType": "object",
         "type": "string"
        },
        {
         "name": "產業別",
         "rawType": "object",
         "type": "string"
        },
        {
         "name": "市場別",
         "rawType": "object",
         "type": "string"
        },
        {
         "name": "面值",
         "rawType": "float64",
         "type": "float"
        },
        {
         "name": "資本額",
         "rawType": "float64",
         "type": "float"
        },
        {
         "name": "市值",
         "rawType": "float64",
         "type": "float"
        },
        {
         "name": "成立日",
         "rawType": "datetime64[ns]",
         "type": "datetime"
        },
        {
         "name": "掛牌日",
         "rawType": "datetime64[ns]",
         "type": "datetime"
        },
        {
         "name": "收益分配",
         "rawType": "object",
         "type": "string"
        },
        {
         "name": "董事長",
         "rawType": "object",
         "type": "string"
        },
        {
         "name": "總經理",
         "rawType": "object",
         "type": "string"
        },
        {
         "name": "發言人",
         "rawType": "object",
         "type": "string"
        },
        {
         "name": "代理人",
         "rawType": "object",
         "type": "string"
        },
        {
         "name": "網址",
         "rawType": "object",
         "type": "string"
        },
        {
         "name": "地址",
         "rawType": "object",
         "type": "string"
        },
        {
         "name": "公司債",
         "rawType": "bool",
         "type": "boolean"
        },
        {
         "name": "私募股",
         "rawType": "bool",
         "type": "boolean"
        },
        {
         "name": "特別股",
         "rawType": "bool",
         "type": "boolean"
        },
        {
         "name": "員工平均年薪(全體員工)",
         "rawType": "float64",
         "type": "float"
        },
        {
         "name": "主要業務",
         "rawType": "object",
         "type": "string"
        },
        {
         "name": "股票代號",
         "rawType": "object",
         "type": "string"
        }
       ],
       "ref": "ea4535a3-4966-4b07-a1af-c53f9b013afc",
       "rows": [
        [
         "0",
         "台灣積體電路製造股份有限公司",
         "半導體業",
         "上市",
         "10.0",
         "259326000000.00003",
         "25800000000000.0",
         "1987-02-21 00:00:00",
         "1994-09-05 00:00:00",
         "每季",
         "魏哲家",
         "總裁: 魏哲家",
         "黃仁昭",
         "高孟華",
         "www.tsmc.com",
         "新竹科學園區力行六路8號",
         "True",
         "False",
         "False",
         "3329000.0",
         "依客戶之訂單與其提供之產品設計說明，以從事製造與銷售積體電路以及其他晶圓半導體裝置。提供前述產品之封裝與測試服務、積體電路之電腦輔助設計技術服務。提供製造光罩及其設計服務。",
         "2330"
        ]
       ],
       "shape": {
        "columns": 21,
        "rows": 1
       }
      },
      "text/html": [
       "<div>\n",
       "<style scoped>\n",
       "    .dataframe tbody tr th:only-of-type {\n",
       "        vertical-align: middle;\n",
       "    }\n",
       "\n",
       "    .dataframe tbody tr th {\n",
       "        vertical-align: top;\n",
       "    }\n",
       "\n",
       "    .dataframe thead th {\n",
       "        text-align: right;\n",
       "    }\n",
       "</style>\n",
       "<table border=\"1\" class=\"dataframe\">\n",
       "  <thead>\n",
       "    <tr style=\"text-align: right;\">\n",
       "      <th></th>\n",
       "      <th>名稱</th>\n",
       "      <th>產業別</th>\n",
       "      <th>市場別</th>\n",
       "      <th>面值</th>\n",
       "      <th>資本額</th>\n",
       "      <th>市值</th>\n",
       "      <th>成立日</th>\n",
       "      <th>掛牌日</th>\n",
       "      <th>收益分配</th>\n",
       "      <th>董事長</th>\n",
       "      <th>...</th>\n",
       "      <th>發言人</th>\n",
       "      <th>代理人</th>\n",
       "      <th>網址</th>\n",
       "      <th>地址</th>\n",
       "      <th>公司債</th>\n",
       "      <th>私募股</th>\n",
       "      <th>特別股</th>\n",
       "      <th>員工平均年薪(全體員工)</th>\n",
       "      <th>主要業務</th>\n",
       "      <th>股票代號</th>\n",
       "    </tr>\n",
       "  </thead>\n",
       "  <tbody>\n",
       "    <tr>\n",
       "      <th>0</th>\n",
       "      <td>台灣積體電路製造股份有限公司</td>\n",
       "      <td>半導體業</td>\n",
       "      <td>上市</td>\n",
       "      <td>10.0</td>\n",
       "      <td>2.593260e+11</td>\n",
       "      <td>2.580000e+13</td>\n",
       "      <td>1987-02-21</td>\n",
       "      <td>1994-09-05</td>\n",
       "      <td>每季</td>\n",
       "      <td>魏哲家</td>\n",
       "      <td>...</td>\n",
       "      <td>黃仁昭</td>\n",
       "      <td>高孟華</td>\n",
       "      <td>www.tsmc.com</td>\n",
       "      <td>新竹科學園區力行六路8號</td>\n",
       "      <td>True</td>\n",
       "      <td>False</td>\n",
       "      <td>False</td>\n",
       "      <td>3329000.0</td>\n",
       "      <td>依客戶之訂單與其提供之產品設計說明，以從事製造與銷售積體電路以及其他晶圓半導體裝置。提供前述...</td>\n",
       "      <td>2330</td>\n",
       "    </tr>\n",
       "  </tbody>\n",
       "</table>\n",
       "<p>1 rows × 21 columns</p>\n",
       "</div>"
      ],
      "text/plain": [
       "               名稱   產業別 市場別    面值           資本額            市值        成立日  \\\n",
       "0  台灣積體電路製造股份有限公司  半導體業  上市  10.0  2.593260e+11  2.580000e+13 1987-02-21   \n",
       "\n",
       "         掛牌日 收益分配  董事長  ...  發言人  代理人            網址            地址   公司債  \\\n",
       "0 1994-09-05   每季  魏哲家  ...  黃仁昭  高孟華  www.tsmc.com  新竹科學園區力行六路8號  True   \n",
       "\n",
       "     私募股    特別股  員工平均年薪(全體員工)  \\\n",
       "0  False  False     3329000.0   \n",
       "\n",
       "                                                主要業務  股票代號  \n",
       "0  依客戶之訂單與其提供之產品設計說明，以從事製造與銷售積體電路以及其他晶圓半導體裝置。提供前述...  2330  \n",
       "\n",
       "[1 rows x 21 columns]"
      ]
     },
     "execution_count": 6,
     "metadata": {},
     "output_type": "execute_result"
    }
   ],
   "source": [
    "info_df"
   ]
  }
 ],
 "metadata": {
  "kernelspec": {
   "display_name": "Python 3",
   "language": "python",
   "name": "python3"
  },
  "language_info": {
   "codemirror_mode": {
    "name": "ipython",
    "version": 3
   },
   "file_extension": ".py",
   "mimetype": "text/x-python",
   "name": "python",
   "nbconvert_exporter": "python",
   "pygments_lexer": "ipython3",
   "version": "3.11.9"
  }
 },
 "nbformat": 4,
 "nbformat_minor": 5
}
